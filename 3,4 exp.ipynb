{
  "cells": [
    {
      "cell_type": "markdown",
      "metadata": {
        "id": "TkQ-IXT7CdLi"
      },
      "source": [
        "## Parsing XML files in python"
      ]
    },
    {
      "cell_type": "code",
      "execution_count": null,
      "metadata": {
        "colab": {
          "base_uri": "https://localhost:8080/"
        },
        "id": "jTNakkHNBlKo",
        "outputId": "284d46a0-3d0e-4cb2-b772-830b16bb6008"
      },
      "outputs": [
        {
          "data": {
            "text/plain": [
              "<xml.etree.ElementTree.ElementTree at 0x79a8edf48610>"
            ]
          },
          "execution_count": 1,
          "metadata": {},
          "output_type": "execute_result"
        }
      ],
      "source": [
        "import xml.etree.ElementTree as ET\n",
        "tree = ET.parse('/content/data.xml')\n",
        "tree"
      ]
    },
    {
      "cell_type": "code",
      "execution_count": null,
      "metadata": {
        "colab": {
          "base_uri": "https://localhost:8080/"
        },
        "id": "5-Ub0en_EIIK",
        "outputId": "4d49dfeb-2a3f-4a86-e10f-95da8e75b97e"
      },
      "outputs": [
        {
          "name": "stdout",
          "output_type": "stream",
          "text": [
            "\n",
            "<bookstore>\n",
            "\t<book>\n",
            "\t\t<title>Python Programming</title>\n",
            "\t\t<author>John Doe</author>\n",
            "\t\t<price>29.99</price>\n",
            "\t</book>\n",
            "\t<book>\n",
            "\t\t<title>Web Development</title>\n",
            "\t\t<author>Jane Smith</author>\n",
            "\t\t<price>24.95</price>\n",
            "\t</book>\n",
            "</bookstore> \n"
          ]
        }
      ],
      "source": [
        "with open('/content/data.xml', 'r') as file:\n",
        "  xml_content = file.read()\n",
        "  print(xml_content)"
      ]
    },
    {
      "cell_type": "code",
      "execution_count": null,
      "metadata": {
        "colab": {
          "base_uri": "https://localhost:8080/"
        },
        "id": "tk-bAAyMEZ6Y",
        "outputId": "3e22da51-b2b1-4755-a46d-73fc31f808d7"
      },
      "outputs": [
        {
          "data": {
            "text/plain": [
              "<Element 'bookstore' at 0x79a8edf98950>"
            ]
          },
          "execution_count": 3,
          "metadata": {},
          "output_type": "execute_result"
        }
      ],
      "source": [
        "root = tree.getroot()\n",
        "root"
      ]
    },
    {
      "cell_type": "code",
      "execution_count": null,
      "metadata": {
        "colab": {
          "base_uri": "https://localhost:8080/"
        },
        "id": "oVMTiAY0Fetf",
        "outputId": "e80b9f1e-d727-4d21-b1d9-01ddca7cccd4"
      },
      "outputs": [
        {
          "name": "stdout",
          "output_type": "stream",
          "text": [
            "Book Title: Python Programming,Book Author: John Doe,Book Price:29.99\n",
            "Book Title: Web Development,Book Author: Jane Smith,Book Price:24.95\n",
            "Empty DataFrame\n",
            "Columns: [Book Title, Book Author, Book price]\n",
            "Index: []\n"
          ]
        }
      ],
      "source": [
        "import pandas as pd\n",
        "import numpy as np\n",
        "booktitle=[]\n",
        "bookauthor=[]\n",
        "bookprice=[]\n",
        "for i in root.findall('book'):\n",
        "  book_title=i.find('title').text\n",
        "  book_author = i.find('author').text\n",
        "  book_price = i.find('price').text\n",
        "  print(f\"Book Title: {book_title},Book Author: {book_author},Book Price:{book_price}\")\n",
        "  data = {'Book Title':booktitle , 'Book Author':bookauthor , 'Book price':bookprice}\n",
        "df=pd.DataFrame(data)\n",
        "df.index = np.arange(1,len(df)+1)\n",
        "print(df)"
      ]
    },
    {
      "cell_type": "code",
      "execution_count": null,
      "metadata": {
        "colab": {
          "base_uri": "https://localhost:8080/"
        },
        "id": "-1HYScoWIWlr",
        "outputId": "df0048db-9d09-42e7-a5de-db1cef0d6e22"
      },
      "outputs": [
        {
          "data": {
            "text/plain": [
              "<xml.etree.ElementTree.ElementTree at 0x79a8d8efd0c0>"
            ]
          },
          "execution_count": 12,
          "metadata": {},
          "output_type": "execute_result"
        }
      ],
      "source": [
        "import xml.etree.ElementTree as ET\n",
        "tree = ET.parse('/content/movies.xml')\n",
        "tree"
      ]
    },
    {
      "cell_type": "code",
      "execution_count": null,
      "metadata": {
        "colab": {
          "base_uri": "https://localhost:8080/"
        },
        "id": "Qv_ciY5CJXKS",
        "outputId": "11987b26-ab69-4d9b-a4ca-82e238037f14"
      },
      "outputs": [
        {
          "name": "stdout",
          "output_type": "stream",
          "text": [
            "<netflix>\n",
            "\t<movie>\n",
            "\t\t<name>Oppenheimer</name>\n",
            "\t\t<budget>800 million USD</budget>\n",
            "\t\t<cast>\n",
            "\t\t\t<actor>Murphy</actor>\n",
            "\t\t\t<actor>Blunt</actor>\n",
            "\t\t\t<actor>Downey</actor>\n",
            "\t\t\t<actor>Damon</actor>\n",
            "\t\t</cast>\n",
            "\t\t<ReleaseDate>21July2023</ReleaseDate>\n",
            "\t</movie>\n",
            "\t<movie>\n",
            "\t\t<name>Dhoom2</name>\n",
            "\t\t<budget>80 million USD</budget>\n",
            "\t\t<cast>\n",
            "\t\t\t<actor>Uday</actor>\n",
            "\t\t\t<actor>Abhishek</actor>\n",
            "\t\t\t<actor>Hritik</actor>\n",
            "\t\t\t<actor>Majnu</actor>\n",
            "\t\t</cast>\n",
            "\t\t<ReleaseDate>24November2006</ReleaseDate>\n",
            "\t</movie>\n",
            "</netflix>\n"
          ]
        }
      ],
      "source": [
        "with open('/content/movies.xml', 'r') as file:\n",
        "  xml_content = file.read()\n",
        "  print(xml_content)"
      ]
    },
    {
      "cell_type": "code",
      "execution_count": null,
      "metadata": {
        "colab": {
          "base_uri": "https://localhost:8080/"
        },
        "id": "_mHkuY5dJcdn",
        "outputId": "5c216761-4e2a-4076-c8e6-37474a0bceb5"
      },
      "outputs": [
        {
          "data": {
            "text/plain": [
              "<Element 'netflix' at 0x79a8d8ec3dd0>"
            ]
          },
          "execution_count": 14,
          "metadata": {},
          "output_type": "execute_result"
        }
      ],
      "source": [
        "root = tree.getroot()\n",
        "root"
      ]
    },
    {
      "cell_type": "code",
      "execution_count": null,
      "metadata": {
        "id": "rqZobvHFJeQi"
      },
      "outputs": [],
      "source": [
        "import pandas as pd\n",
        "import numpy as np\n",
        "moviename=[]\n",
        "movieReleaseDate=[]\n",
        "moviebudget=[]\n",
        "moviecast=[]"
      ]
    },
    {
      "cell_type": "code",
      "execution_count": null,
      "metadata": {
        "colab": {
          "base_uri": "https://localhost:8080/"
        },
        "id": "LVXVDo-eKjre",
        "outputId": "f93860e0-0567-4da7-aaf5-aa160e3805ad"
      },
      "outputs": [
        {
          "name": "stdout",
          "output_type": "stream",
          "text": [
            "Movie Name: Oppenheimer ,movie releasedate: 21July2023 ,Movie Budget:800 million USD\n",
            "Movie Name: Dhoom2 ,movie releasedate: 24November2006 ,Movie Budget:80 million USD\n",
            "Empty DataFrame\n",
            "Columns: [Movie Name, Movie ReleaseDate, Movie Budget]\n",
            "Index: []\n"
          ]
        }
      ],
      "source": [
        "for movie in root.findall('movie'):\n",
        "  movie_name=movie.find('name').text\n",
        "  movie_releasedate = movie.find('ReleaseDate').text\n",
        "  movie_budget = movie.find('budget').text\n",
        "  print(f\"Movie Name: {movie_name} ,movie releasedate: {movie_releasedate} ,Movie Budget:{movie_budget}\")\n",
        "  data = {'Movie Name':moviename , 'Movie ReleaseDate':movieReleaseDate , 'Movie Budget':moviebudget}\n",
        "df=pd.DataFrame(data)\n",
        "df.index = np.arange(1,len(df)+1)\n",
        "print(df)"
      ]
    },
    {
      "cell_type": "code",
      "execution_count": null,
      "metadata": {
        "colab": {
          "base_uri": "https://localhost:8080/"
        },
        "id": "2eeBdzOCMOTX",
        "outputId": "7258a7ab-96c3-4d9a-ae39-17056aeb2412"
      },
      "outputs": [
        {
          "name": "stdout",
          "output_type": "stream",
          "text": [
            "Uday\n",
            "Abhishek\n",
            "Hritik\n",
            "Majnu\n"
          ]
        }
      ],
      "source": [
        "cast=movie.find('cast').findall('actor')\n",
        "for j in cast:\n",
        "  print(j.text)"
      ]
    },
    {
      "cell_type": "markdown",
      "metadata": {
        "id": "eYvFoCQxO3NX"
      },
      "source": [
        "## Parsing JSON files python"
      ]
    },
    {
      "cell_type": "code",
      "execution_count": null,
      "metadata": {
        "id": "IsdB6TjQM-9o"
      },
      "outputs": [],
      "source": [
        "x=np.arange()"
      ]
    },
    {
      "cell_type": "code",
      "execution_count": null,
      "metadata": {
        "id": "BZms8ScESEi6"
      },
      "outputs": [],
      "source": [
        "import json\n",
        "import numpy as np\n"
      ]
    },
    {
      "cell_type": "code",
      "execution_count": null,
      "metadata": {
        "colab": {
          "base_uri": "https://localhost:8080/"
        },
        "id": "5oOWrEA8RKW1",
        "outputId": "d1a41aaf-2fef-48cd-931a-e7045bbcf3e4"
      },
      "outputs": [
        {
          "name": "stdout",
          "output_type": "stream",
          "text": [
            "{\n",
            " \"name\": \"MS Dhoni\",\n",
            " \"age\": \"42\",\n",
            " \"email\": \"xyz@abc.com\",\n",
            " \"speed\": \"x\",\n",
            " \"is_GOAT\": true,\n",
            " \"hobbies\": [\n",
            "  \"badminton\",\n",
            "  \"football\",\n",
            "  \"swimming\"\n",
            " ],\n",
            " \"address\": {\n",
            "  \"street\": \"123 main st\",\n",
            "  \"city\": \"Ranchi\",\n",
            "  \"zip_code\": \"834001\"\n",
            " }\n",
            "}\n"
          ]
        }
      ],
      "source": [
        "data ={\n",
        "    \"name\": \"MS Dhoni\",\n",
        "    \"age\": \"42\",\n",
        "    \"email\": \"xyz@abc.com\",\n",
        "    \"speed\": \"x\",\n",
        "    \"is_GOAT\": True,\n",
        "    \"hobbies\": [\"badminton\", \"football\" ,\"swimming\"],\n",
        "    \"address\": {\n",
        "        \"street\": \"123 main st\",\n",
        "        \"city\": \"Ranchi\",\n",
        "        \"zip_code\": \"834001\",\n",
        "    }\n",
        "}\n",
        "\n",
        "json_object = json.dumps(data,indent=1)\n",
        "\n",
        "print(json_object)"
      ]
    },
    {
      "cell_type": "code",
      "execution_count": null,
      "metadata": {
        "colab": {
          "base_uri": "https://localhost:8080/"
        },
        "id": "u-V1aybBS1vr",
        "outputId": "a1e96824-7834-49a9-c482-581d4f5df24e"
      },
      "outputs": [
        {
          "name": "stdout",
          "output_type": "stream",
          "text": [
            "{'fruit': 'Apple', 'size': 'Large', 'color': 'Red'}\n",
            "fruit Apple\n",
            "size Large\n",
            "color Red\n"
          ]
        }
      ],
      "source": [
        "import json\n",
        "f = open('/content/example_1.json')\n",
        "example_1=json.load(f)\n",
        "print(example_1)\n",
        "\n",
        "for i in example_1:\n",
        "  print(i,example_1[i])"
      ]
    },
    {
      "cell_type": "code",
      "execution_count": null,
      "metadata": {
        "colab": {
          "base_uri": "https://localhost:8080/"
        },
        "id": "NBHHWwyyT8fn",
        "outputId": "f1674b24-11bd-41f4-e39f-c3c7b16d1eb9"
      },
      "outputs": [
        {
          "name": "stdout",
          "output_type": "stream",
          "text": [
            "{'quiz': {'sport': {'q1': {'question': 'Which one is correct team name in NBA?', 'options': ['New York Bulls', 'Los Angeles Kings', 'Golden State Warriros', 'Huston Rocket'], 'answer': 'Huston Rocket'}}, 'maths': {'q1': {'question': '5 + 7 = ?', 'options': ['10', '11', '12', '13'], 'answer': '12'}, 'q2': {'question': '12 - 8 = ?', 'options': ['1', '2', '3', '4'], 'answer': '4'}}}}\n",
            "quiz {'sport': {'q1': {'question': 'Which one is correct team name in NBA?', 'options': ['New York Bulls', 'Los Angeles Kings', 'Golden State Warriros', 'Huston Rocket'], 'answer': 'Huston Rocket'}}, 'maths': {'q1': {'question': '5 + 7 = ?', 'options': ['10', '11', '12', '13'], 'answer': '12'}, 'q2': {'question': '12 - 8 = ?', 'options': ['1', '2', '3', '4'], 'answer': '4'}}}\n"
          ]
        }
      ],
      "source": [
        "import json\n",
        "f = open('/content/example_2.json')\n",
        "example_2=json.load(f)\n",
        "print(example_2)\n",
        "\n",
        "for i in example_2:\n",
        "\n",
        "  print(i,example_2[i])"
      ]
    },
    {
      "cell_type": "code",
      "execution_count": null,
      "metadata": {
        "id": "zSxJRHFLUjNk"
      },
      "outputs": [],
      "source": []
    }
  ],
  "metadata": {
    "colab": {
      "provenance": []
    },
    "kernelspec": {
      "display_name": "Python 3",
      "name": "python3"
    },
    "language_info": {
      "name": "python",
      "version": "3.11.4"
    }
  },
  "nbformat": 4,
  "nbformat_minor": 0
}

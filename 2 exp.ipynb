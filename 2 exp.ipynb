{
 "cells": [
  {
   "cell_type": "code",
   "execution_count": 6,
   "metadata": {},
   "outputs": [
    {
     "name": "stdout",
     "output_type": "stream",
     "text": [
      "Euclidean Distance a: 3.7416573867739413\n",
      "L1 Norm: 6.0\n",
      "L2 Norm: 5.477225575051661\n"
     ]
    }
   ],
   "source": [
    "import numpy as np\n",
    "\n",
    "# Compute the Euclidean norm of a vector\n",
    "a = np.array([1, 2, 3])\n",
    "b=np.array([10,11,12])\n",
    "euclidean_norm = np.linalg.norm(a)\n",
    "print(\"Euclidean Distance a:\", euclidean_norm)\n",
    "\n",
    "# Compute the L1 norm (Manhattan norm) of a vector\n",
    "l1_norm = np.linalg.norm(a, ord=1)\n",
    "print(\"L1 Norm:\", l1_norm)\n",
    "\n",
    "# Compute the L2 norm (Euclidean norm) of a matrix\n",
    "matrix = np.array([[1, 2],[3,4]])\n",
    "l2_norm = np.linalg.norm(matrix)\n",
    "print(\"L2 Norm:\", l2_norm)\n"
   ]
  },
  {
   "cell_type": "code",
   "execution_count": 2,
   "metadata": {},
   "outputs": [
    {
     "name": "stdout",
     "output_type": "stream",
     "text": [
      "Euclidean Distance: 5.196152422706632\n"
     ]
    }
   ],
   "source": [
    "from scipy.spatial import distance\n",
    "import numpy as np\n",
    "\n",
    "# Compute the Euclidean distance between two points\n",
    "point1 = np.array([1, 2, 3])\n",
    "point2 = np.array([4, 5, 6])\n",
    "euclidean_distance = distance.euclidean(point1, point2)\n",
    "print(\"Euclidean Distance:\", euclidean_distance)"
   ]
  },
  {
   "cell_type": "code",
   "execution_count": 3,
   "metadata": {},
   "outputs": [
    {
     "name": "stdout",
     "output_type": "stream",
     "text": [
      "Manhattan Distance: 9\n"
     ]
    }
   ],
   "source": [
    "# Compute the Manhattan distance between two points\n",
    "manhattan_distance = distance.cityblock(point1, point2)\n",
    "print(\"Manhattan Distance:\", manhattan_distance)"
   ]
  },
  {
   "cell_type": "code",
   "execution_count": 4,
   "metadata": {},
   "outputs": [
    {
     "name": "stdout",
     "output_type": "stream",
     "text": [
      "Cosine Distance: 0.0253681538029239\n"
     ]
    }
   ],
   "source": [
    "# Compute the cosine distance between two vectors\n",
    "vector1 = np.array([1, 2, 3])\n",
    "vector2 = np.array([4, 5, 6])\n",
    "cosine_distance = distance.cosine(vector1, vector2)\n",
    "print(\"Cosine Distance:\", cosine_distance)"
   ]
  },
  {
   "cell_type": "code",
   "execution_count": 5,
   "metadata": {},
   "outputs": [
    {
     "name": "stdout",
     "output_type": "stream",
     "text": [
      "Cosine Similarity: 0.598030293637636\n",
      "Cosine Distance: 0.40196970636236395\n"
     ]
    }
   ],
   "source": [
    "import numpy as np\n",
    "\n",
    "# Define two vectors\n",
    "vector1 = np.array([0.8,0.6,0.3,0.1])\n",
    "vector2 = np.array([0.7,0.3,0.7,-0.9])\n",
    "\n",
    "# Compute the dot product of the vectors\n",
    "dot_product = np.dot(vector1, vector2)\n",
    "\n",
    "# Compute the magnitudes of the vectors\n",
    "magnitude1 = np.linalg.norm(vector1)\n",
    "magnitude2 = np.linalg.norm(vector2)\n",
    "\n",
    "# Compute the cosine similarity\n",
    "cosine_similarity = dot_product / (magnitude1 * magnitude2)\n",
    "\n",
    "print(\"Cosine Similarity:\", cosine_similarity)\n",
    "cosine_distance = distance.cosine(vector1, vector2)\n",
    "print(\"Cosine Distance:\", cosine_distance)"
   ]
  },
  {
   "cell_type": "code",
   "execution_count": 6,
   "metadata": {},
   "outputs": [],
   "source": [
    "import numpy as np\n",
    "data1=np.random.randint(60,300,size=(100,1)) #Blood glucose\n",
    "data2=np.random.randint(60,200,size=(100,1)) #Blood pressure"
   ]
  },
  {
   "cell_type": "code",
   "execution_count": 7,
   "metadata": {},
   "outputs": [
    {
     "name": "stdout",
     "output_type": "stream",
     "text": [
      "(100, 2)\n"
     ]
    }
   ],
   "source": [
    "features=np.concatenate((data1,data2),axis=1)\n",
    "print(features.shape)"
   ]
  },
  {
   "cell_type": "code",
   "execution_count": 8,
   "metadata": {},
   "outputs": [],
   "source": [
    "label=np.random.randint(0,2,size=(100,1))"
   ]
  },
  {
   "cell_type": "code",
   "execution_count": 9,
   "metadata": {},
   "outputs": [
    {
     "name": "stdout",
     "output_type": "stream",
     "text": [
      "[[ 91 165   0]\n",
      " [ 97 133   1]\n",
      " [261 113   0]\n",
      " [192 115   1]\n",
      " [153  65   0]\n",
      " [230 109   0]\n",
      " [298 170   0]\n",
      " [218 146   1]\n",
      " [296  78   1]\n",
      " [278 102   1]\n",
      " [ 81  60   0]\n",
      " [158 111   1]\n",
      " [ 90 149   1]\n",
      " [176 193   0]\n",
      " [151 118   1]\n",
      " [ 75  81   1]\n",
      " [136 146   1]\n",
      " [169 125   1]\n",
      " [173 194   1]\n",
      " [106  87   1]\n",
      " [264 143   1]\n",
      " [242  96   0]\n",
      " [233 156   0]\n",
      " [177 178   0]\n",
      " [249 172   0]\n",
      " [191 174   0]\n",
      " [ 82 172   0]\n",
      " [136  78   1]\n",
      " [129  66   1]\n",
      " [120  74   1]\n",
      " [261 110   0]\n",
      " [194  82   1]\n",
      " [ 63 134   1]\n",
      " [ 65 128   0]\n",
      " [189  89   1]\n",
      " [182 156   1]\n",
      " [ 99 137   1]\n",
      " [211 177   1]\n",
      " [264 167   0]\n",
      " [177 172   0]\n",
      " [119  95   1]\n",
      " [240 141   0]\n",
      " [ 90  67   0]\n",
      " [168  80   1]\n",
      " [224 162   1]\n",
      " [ 70  73   1]\n",
      " [147 199   0]\n",
      " [150 105   1]\n",
      " [133  77   1]\n",
      " [256 143   0]\n",
      " [ 65 123   1]\n",
      " [204 192   1]\n",
      " [271 133   0]\n",
      " [235 105   0]\n",
      " [ 82 169   1]\n",
      " [214 161   1]\n",
      " [250 110   1]\n",
      " [110  93   1]\n",
      " [179 147   1]\n",
      " [196 137   1]\n",
      " [174 105   1]\n",
      " [ 61 179   0]\n",
      " [186 135   1]\n",
      " [ 65  71   0]\n",
      " [239  63   0]\n",
      " [163 163   1]\n",
      " [206 103   0]\n",
      " [290 136   0]\n",
      " [110 179   1]\n",
      " [193 136   1]\n",
      " [228 178   1]\n",
      " [ 74 163   0]\n",
      " [204 134   1]\n",
      " [241 187   1]\n",
      " [ 69  63   0]\n",
      " [251 168   1]\n",
      " [ 71 107   1]\n",
      " [157 107   0]\n",
      " [208 140   1]\n",
      " [246  77   1]\n",
      " [ 83 154   1]\n",
      " [102 170   1]\n",
      " [127 188   0]\n",
      " [ 63  76   1]\n",
      " [217  95   1]\n",
      " [129 174   0]\n",
      " [194 125   1]\n",
      " [270 135   0]\n",
      " [245  79   0]\n",
      " [109 165   0]\n",
      " [296  79   0]\n",
      " [232  68   0]\n",
      " [107  87   0]\n",
      " [287 113   1]\n",
      " [228 127   0]\n",
      " [258 163   0]\n",
      " [262 192   0]\n",
      " [290 181   0]\n",
      " [217 189   0]\n",
      " [274 118   0]]\n"
     ]
    }
   ],
   "source": [
    "overall_data=np.concatenate((features,label),axis=1)\n",
    "print(overall_data)"
   ]
  },
  {
   "cell_type": "code",
   "execution_count": 10,
   "metadata": {},
   "outputs": [],
   "source": [
    "test_vector=np.random.randint(60,300,size=(1,2))\n",
    "#detect\n",
    "#Initialize distance as an empty list\n",
    "dist=[]\n",
    "for i in range(features.shape[0]):\n",
    "      dist.append(np.linalg.norm(test_vector-features[i,:]))"
   ]
  },
  {
   "cell_type": "code",
   "execution_count": 11,
   "metadata": {},
   "outputs": [],
   "source": [
    "dist=np.array(dist)\n",
    "sorted_dist=np.sort(dist)"
   ]
  },
  {
   "cell_type": "code",
   "execution_count": 12,
   "metadata": {},
   "outputs": [
    {
     "name": "stdout",
     "output_type": "stream",
     "text": [
      "[106.88779163  77.49193506 197.25364382 132.91350571  82.15229759\n",
      " 166.37908522 252.24789395 170.30854353 225.71885167 211.21789697\n",
      "  10.         100.84641788  91.00549434 169.45205812  98.81295462\n",
      "  21.37755833 107.80074211 117.59676866 168.40427548  44.20407221\n",
      " 210.09045671 174.74839055 188.30825792 158.61904047 210.30454108\n",
      " 165.51737069 112.53888217  67.44627492  58.30951895  50.96076922\n",
      " 196.46882704 124.95199078  74.43117626  68.26419266 121.51131635\n",
      " 146.7548977   81.93289938 182.45273361 220.67623343 154.20765221\n",
      "  59.40538696 187.40864441  20.24845673  99.0403958  183.88311505\n",
      "  13.03840481 158.42032698  90.91754506  64.28841264 202.76587484\n",
      "  63.28506933 187.38463117 212.90608258 170.06175349 109.55363983\n",
      " 175.071414   185.85209173  51.0881591  138.68309198 146.81280598\n",
      " 112.40106761 119.41942891 137.29530218  12.52996409 168.02678358\n",
      " 138.10503249 141.68274419 231.81242417 125.22779244 143.73586887\n",
      " 196.40010183 103.04368006 152.20052562 212.200377     3.60555128\n",
      " 209.91426821  47.          98.00510191 158.64740779 175.82377541\n",
      "  94.76286192 114.28473214 139.71399357  17.88854382 150.13660446\n",
      " 127.90621564 139.11865439 212.66405432 175.03428236 111.6646766\n",
      " 225.80079716 161.19863523  45.         222.40728405 170.69856473\n",
      " 213.49004661 232.17450334 250.20391684 194.825563   211.12318679]\n"
     ]
    }
   ],
   "source": [
    "print(dist)"
   ]
  },
  {
   "cell_type": "code",
   "execution_count": 13,
   "metadata": {},
   "outputs": [
    {
     "name": "stdout",
     "output_type": "stream",
     "text": [
      "the result:  [0]\n",
      "74\n"
     ]
    }
   ],
   "source": [
    "a=0\n",
    "for i in range(len(dist)):\n",
    "  if sorted_dist[0]==dist[i]:\n",
    "    a=i\n",
    "    break\n",
    "\n",
    "print(\"the result: \",label[a])\n",
    "print(a)"
   ]
  },
  {
   "cell_type": "code",
   "execution_count": null,
   "metadata": {},
   "outputs": [],
   "source": []
  }
 ],
 "metadata": {
  "kernelspec": {
   "display_name": "Python 3",
   "language": "python",
   "name": "python3"
  },
  "language_info": {
   "codemirror_mode": {
    "name": "ipython",
    "version": 3
   },
   "file_extension": ".py",
   "mimetype": "text/x-python",
   "name": "python",
   "nbconvert_exporter": "python",
   "pygments_lexer": "ipython3",
   "version": "3.11.4"
  }
 },
 "nbformat": 4,
 "nbformat_minor": 2
}

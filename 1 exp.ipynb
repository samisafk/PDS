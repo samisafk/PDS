{
  "cells": [
    {
      "cell_type": "markdown",
      "metadata": {},
      "source": [
        "                                                             Suyash Tambe \n",
        "\n",
        "                                                              22070126117\n",
        "\n",
        "                                                               AIML B2"
      ]
    },
    {
      "cell_type": "markdown",
      "metadata": {
        "id": "QG8H2efthzdY"
      },
      "source": [
        "Experiment 1"
      ]
    },
    {
      "cell_type": "code",
      "execution_count": null,
      "metadata": {
        "id": "TDTEvTzVqTh3"
      },
      "outputs": [],
      "source": [
        "import numpy as np"
      ]
    },
    {
      "cell_type": "code",
      "execution_count": null,
      "metadata": {
        "colab": {
          "base_uri": "https://localhost:8080/"
        },
        "id": "n3w4-M6xh6ID",
        "outputId": "1d22012b-b163-465e-b99b-2e18ad78db00"
      },
      "outputs": [
        {
          "name": "stdout",
          "output_type": "stream",
          "text": [
            "Sum of the matrix:\n",
            "[[2 2]\n",
            " [3 5]]\n"
          ]
        }
      ],
      "source": [
        "def matrix_sum(matrix1, matrix2):\n",
        "    if matrix1.shape != matrix2.shape:\n",
        "        raise ValueError(\"Matrices must have the same dimensions for addition.\")\n",
        "\n",
        "    return matrix1 + matrix2\n",
        "\n",
        "\n",
        "matrix_a = np.array([[1, 1], [2, 4]])\n",
        "matrix_b = np.array([[1, 1], [1, 1]])\n",
        "\n",
        "try:\n",
        "    result = matrix_sum(matrix_a, matrix_b)\n",
        "    print(\"Sum of the matrix:\")\n",
        "    print(result)\n",
        "except ValueError as e:\n",
        "    print(\"Error:\", e)\n"
      ]
    },
    {
      "cell_type": "markdown",
      "metadata": {
        "id": "U_rts5jemC2-"
      },
      "source": [
        "Experiment 2"
      ]
    },
    {
      "cell_type": "code",
      "execution_count": null,
      "metadata": {
        "colab": {
          "base_uri": "https://localhost:8080/"
        },
        "id": "UpSt6uPqic8W",
        "outputId": "f5b110b6-5585-468d-c11b-dcd06bf4c9c6"
      },
      "outputs": [
        {
          "name": "stdout",
          "output_type": "stream",
          "text": [
            "Sum of the matrix:\n",
            "[[0 0]\n",
            " [1 3]]\n"
          ]
        }
      ],
      "source": [
        "def matrix_difference(matrix1, matrix2):\n",
        "    if matrix1.shape != matrix2.shape:\n",
        "        raise ValueError(\"Matrices must have the same dimensions for addition.\")\n",
        "\n",
        "    return matrix1 - matrix2\n",
        "\n",
        "\n",
        "matrix_a = np.array([[1, 1], [2, 4]])\n",
        "matrix_b = np.array([[1, 1], [1, 1]])\n",
        "\n",
        "try:\n",
        "    result = matrix_difference(matrix_a, matrix_b)\n",
        "    print(\"Sum of the matrix:\")\n",
        "    print(result)\n",
        "except ValueError as e:\n",
        "    print(\"Error:\", e)"
      ]
    },
    {
      "cell_type": "markdown",
      "metadata": {
        "id": "y406-7cvm8Hj"
      },
      "source": [
        "Experiment 3"
      ]
    },
    {
      "cell_type": "code",
      "execution_count": null,
      "metadata": {
        "colab": {
          "base_uri": "https://localhost:8080/"
        },
        "id": "sSv_hy6kj175",
        "outputId": "d82c00ee-8be4-463b-a9aa-67d4e8068c2f"
      },
      "outputs": [
        {
          "name": "stdout",
          "output_type": "stream",
          "text": [
            "Original Matrix:\n",
            "[[1 2 3]\n",
            " [4 5 6]]\n",
            "\n",
            "Transposed Matrix:\n",
            "[[1 4]\n",
            " [2 5]\n",
            " [3 6]]\n"
          ]
        }
      ],
      "source": [
        "def matrix_transpose(matrix):\n",
        "    return np.transpose(matrix)\n",
        "\n",
        "matrix_a = np.array([[1, 2, 3], [4, 5, 6]])\n",
        "\n",
        "transposed_matrix = matrix_transpose(matrix_a)\n",
        "\n",
        "print(\"Original Matrix:\")\n",
        "print(matrix_a)\n",
        "\n",
        "print(\"\\nTransposed Matrix:\")\n",
        "print(transposed_matrix)\n"
      ]
    },
    {
      "cell_type": "markdown",
      "metadata": {
        "id": "s7QlPHdxnHRI"
      },
      "source": [
        "Experiment 4"
      ]
    },
    {
      "cell_type": "code",
      "execution_count": null,
      "metadata": {
        "colab": {
          "base_uri": "https://localhost:8080/"
        },
        "id": "dGPgxWvxmyFA",
        "outputId": "3a4f5f7a-4e71-42de-bbfe-a6a3f7cf8c00"
      },
      "outputs": [
        {
          "name": "stdout",
          "output_type": "stream",
          "text": [
            "[[1. 0. 0. 0.]\n",
            " [0. 1. 0. 0.]\n",
            " [0. 0. 1. 0.]\n",
            " [0. 0. 0. 1.]]\n"
          ]
        }
      ],
      "source": [
        "import numpy as np\n",
        "\n",
        "def identity_matrix(n):\n",
        "    return np.eye(n)\n",
        "\n",
        "\n",
        "n = 4\n",
        "\n",
        "identity_matrix_5x5 = identity_matrix(n)\n",
        "print(identity_matrix_5x5)\n"
      ]
    },
    {
      "cell_type": "markdown",
      "metadata": {
        "id": "GRdMUFw8oILx"
      },
      "source": [
        "Experiment 5"
      ]
    },
    {
      "cell_type": "code",
      "execution_count": null,
      "metadata": {
        "colab": {
          "base_uri": "https://localhost:8080/"
        },
        "id": "w4K8uizin89S",
        "outputId": "b02849ce-8c70-4778-dcce-68463dd60ef4"
      },
      "outputs": [
        {
          "name": "stdout",
          "output_type": "stream",
          "text": [
            "Eigenvalues:\n",
            "[-0.37228132  5.37228132]\n",
            "\n",
            "Eigenvectors:\n",
            "[[-0.82456484 -0.41597356]\n",
            " [ 0.56576746 -0.90937671]]\n"
          ]
        }
      ],
      "source": [
        "def eigenvalues_and_eigenvectors(matrix):\n",
        "    eigenvalues, eigenvectors = np.linalg.eig(matrix)\n",
        "    return eigenvalues, eigenvectors\n",
        "\n",
        "matrix_a = np.array([[1, 2], [3, 4]])\n",
        "\n",
        "eigenvalues, eigenvectors = eigenvalues_and_eigenvectors(matrix_a)\n",
        "\n",
        "print(\"Eigenvalues:\")\n",
        "print(eigenvalues)\n",
        "\n",
        "print(\"\\nEigenvectors:\")\n",
        "print(eigenvectors)\n"
      ]
    },
    {
      "cell_type": "markdown",
      "metadata": {
        "id": "0kzppRLaoXu1"
      },
      "source": [
        "Experiment 6"
      ]
    },
    {
      "cell_type": "code",
      "execution_count": null,
      "metadata": {
        "colab": {
          "base_uri": "https://localhost:8080/"
        },
        "id": "9uJxkJk5oOHC",
        "outputId": "d45b5034-e201-4283-8390-ebdd333a8319"
      },
      "outputs": [
        {
          "name": "stdout",
          "output_type": "stream",
          "text": [
            "L2 Norm of the array: 10.0\n"
          ]
        }
      ],
      "source": [
        "def l2_norm(vector):\n",
        "    return np.linalg.norm(vector)\n",
        "\n",
        "array_a = np.array([6, 8])\n",
        "\n",
        "l2_norm_result = l2_norm(array_a)\n",
        "\n",
        "print(\"L2 Norm of the array:\", l2_norm_result)\n"
      ]
    },
    {
      "cell_type": "markdown",
      "metadata": {
        "id": "6hXgN5c-o2zD"
      },
      "source": [
        "Experiment 7"
      ]
    },
    {
      "cell_type": "code",
      "execution_count": null,
      "metadata": {
        "colab": {
          "base_uri": "https://localhost:8080/"
        },
        "id": "mk64841popSj",
        "outputId": "b0733308-bf5c-4676-aa39-bfe68fc136d5"
      },
      "outputs": [
        {
          "name": "stdout",
          "output_type": "stream",
          "text": [
            "Frobenius Norm of the matrix is: 9.539392014169456\n"
          ]
        }
      ],
      "source": [
        "def frobenius_norm(matrix):\n",
        "    return np.linalg.norm(matrix, ord='fro')\n",
        "\n",
        "matrix_a = np.array([[1, 2], [3, 4], [5, 6]])\n",
        "\n",
        "frobenius_norm_result = frobenius_norm(matrix_a)\n",
        "\n",
        "print(\"Frobenius Norm of the matrix is:\", frobenius_norm_result)\n"
      ]
    },
    {
      "cell_type": "markdown",
      "metadata": {
        "id": "UJBysfJTpQj3"
      },
      "source": [
        "Experiment8"
      ]
    },
    {
      "cell_type": "code",
      "execution_count": null,
      "metadata": {
        "colab": {
          "base_uri": "https://localhost:8080/"
        },
        "id": "a7RpJQQPpG3m",
        "outputId": "233f0fd7-c9ea-4279-ce7a-3ad5de295c6e"
      },
      "outputs": [
        {
          "name": "stdout",
          "output_type": "stream",
          "text": [
            "Normalized vector: [0.6 0.8]\n"
          ]
        }
      ],
      "source": [
        "def normalize_vector(vector):\n",
        "    norm = np.linalg.norm(vector)\n",
        "    if norm == 0:\n",
        "        raise ValueError(\"Cannot normalize a zero-vector.\")\n",
        "    return vector / norm\n",
        "\n",
        "array_a = np.array([3, 4])\n",
        "\n",
        "normalized_vector = normalize_vector(array_a)\n",
        "\n",
        "print(\"Normalized vector:\", normalized_vector)\n"
      ]
    },
    {
      "cell_type": "markdown",
      "metadata": {
        "id": "E0gIDd5dpdyw"
      },
      "source": [
        "Experiment 9"
      ]
    },
    {
      "cell_type": "code",
      "execution_count": null,
      "metadata": {
        "colab": {
          "base_uri": "https://localhost:8080/"
        },
        "id": "pLwuMsFTpb6J",
        "outputId": "67038935-a704-4b3e-9286-442c40258374"
      },
      "outputs": [
        {
          "name": "stdout",
          "output_type": "stream",
          "text": [
            "Condition number of the matrix is: 14.999999999999998\n"
          ]
        }
      ],
      "source": [
        "def condition_number(matrix):\n",
        "    matrix_norm = np.linalg.norm(matrix, ord='fro')\n",
        "    matrix_inverse = np.linalg.inv(matrix)\n",
        "    inverse_norm = np.linalg.norm(matrix_inverse, ord='fro')\n",
        "\n",
        "    if matrix_norm == 0.0 or inverse_norm == 0.0:\n",
        "        raise ValueError(\"Matrix is singular, and its condition number is undefined.\")\n",
        "\n",
        "    return matrix_norm * inverse_norm\n",
        "\n",
        "matrix_a = np.array([[1, 2], [3, 4]])\n",
        "\n",
        "condition_number_result = condition_number(matrix_a)\n",
        "\n",
        "print(\"Condition number of the matrix is:\", condition_number_result)\n"
      ]
    },
    {
      "cell_type": "markdown",
      "metadata": {
        "id": "2yQ9faxjp0ex"
      },
      "source": [
        "Experiment 10"
      ]
    },
    {
      "cell_type": "code",
      "execution_count": null,
      "metadata": {
        "colab": {
          "base_uri": "https://localhost:8080/"
        },
        "id": "YZGxJB2tptaX",
        "outputId": "16452b4a-fd74-4301-8ade-c35f07c27431"
      },
      "outputs": [
        {
          "name": "stdout",
          "output_type": "stream",
          "text": [
            "Angle between the vectors (in degrees) is: 10.304846468766044\n"
          ]
        }
      ],
      "source": [
        "def angle_between_vectors(vector1, vector2):\n",
        "    dot_product = np.dot(vector1, vector2)\n",
        "    magnitude1 = np.linalg.norm(vector1)\n",
        "    magnitude2 = np.linalg.norm(vector2)\n",
        "\n",
        "    if magnitude1 == 0.0 or magnitude2 == 0.0:\n",
        "        raise ValueError(\"Cannot calculate the angle for zero-vectors.\")\n",
        "\n",
        "    cosine_theta = dot_product / (magnitude1 * magnitude2)\n",
        "    angle_rad = np.arccos(cosine_theta)\n",
        "    angle_deg = np.degrees(angle_rad)\n",
        "\n",
        "    return angle_deg\n",
        "\n",
        "vector_a = np.array([3, 4])\n",
        "vector_b = np.array([1, 2])\n",
        "\n",
        "angle_degrees = angle_between_vectors(vector_a, vector_b)\n",
        "\n",
        "print(\"Angle between the vectors (in degrees) is:\", angle_degrees)\n"
      ]
    },
    {
      "cell_type": "code",
      "execution_count": null,
      "metadata": {
        "id": "M0oPK4w-qEJ5"
      },
      "outputs": [],
      "source": []
    }
  ],
  "metadata": {
    "colab": {
      "provenance": []
    },
    "kernelspec": {
      "display_name": "Python 3",
      "name": "python3"
    },
    "language_info": {
      "name": "python",
      "version": "3.11.4"
    }
  },
  "nbformat": 4,
  "nbformat_minor": 0
}
